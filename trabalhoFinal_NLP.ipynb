{
  "cells": [
    {
      "cell_type": "markdown",
      "metadata": {
        "id": "VDbi6PDS9MYO"
      },
      "source": [
        "***Participantes (RM - NOME):***<br>\n",
        "341759 - Davidson de Oliveira Mizael<br>\n",
        "341778 - Nilo José de Andrade Neto<br>\n",
        "341490 - Eduardo Nascimento<br>\n"
      ]
    },
    {
      "cell_type": "markdown",
      "metadata": {
        "id": "7xw6WhaNo4k3"
      },
      "source": [
        "###**Criar um classificador de sentimento aplicando técnicas de PLN**\n",
        "---\n",
        "\n",
        "Utilizando o dataset de revisões de filmes em português [1], criar um classificador de sentimentos que consiga um score na métrica F1 Score superior a 70%.\n",
        "\n",
        "Devem utilizar uma amostra de 20% e randon_state igual a 42 para testar as implementações e mensurar a métrica F1 Score (usar o parâmetro average = 'weighted') o restante dos dados devem ser utilizados para o treinamento (80%).\n",
        "\n",
        "Fique a vontade para testar os métodos de pré-processamento, abordagens, algoritmos e bibliotecas, mas explique e justifique suas decisões.\n",
        "O trabalho poderá ser feito em grupo de até 4 pessoas (mesmo grupo do Startup One).\n",
        "\n",
        "Separe a implementação do seu modelo campeão junto com a parte de validação/teste de forma que o professor consiga executar todo o pipeline do modelo campeão.\n",
        "\n",
        "Composição da nota:\n",
        "- 50% - Demonstrações das aplicações das técnicas de PLN (regras, pré-processamentos, tratamentos, variedade de modelos aplicados, etc.)\n",
        "- 50% - Baseado na performance obtida com o dataset de teste (conforme recomendação da amostra) no seu modelo campeão e na validação que o professor processar (Métrica F1 Score)."
      ]
    },
    {
      "cell_type": "markdown",
      "metadata": {
        "id": "fzhQpodBpRpX"
      },
      "source": [
        "[1] - https://dados-ml-pln.s3-sa-east-1.amazonaws.com/reviews-pt-br.csv"
      ]
    },
    {
      "cell_type": "markdown",
      "metadata": {
        "id": "FyKC9Vhkp0BK"
      },
      "source": [
        "Bom desenvolvimento!"
      ]
    },
    {
      "cell_type": "code",
      "execution_count": 1,
      "metadata": {
        "id": "nze8UbKhosm9"
      },
      "outputs": [
        {
          "name": "stderr",
          "output_type": "stream",
          "text": [
            "/tmp/ipykernel_35704/793835239.py:6: TqdmDeprecationWarning: This function will be removed in tqdm==5.0.0\n",
            "Please use `tqdm.notebook.*` instead of `tqdm._tqdm_notebook.*`\n",
            "  from tqdm._tqdm_notebook import tqdm_notebook\n"
          ]
        }
      ],
      "source": [
        "import nltk\n",
        "import pickle\n",
        "import spacy #!pip install spacy\n",
        "\n",
        "import pandas as pd\n",
        "from tqdm._tqdm_notebook import tqdm_notebook\n",
        "tqdm_notebook.pandas()\n",
        "import re\n",
        "\n",
        "from sklearn.feature_extraction.text import TfidfVectorizer\n",
        "from sklearn.model_selection import train_test_split\n",
        "from sklearn.linear_model import LogisticRegression\n",
        "from sklearn.metrics import accuracy_score\n",
        "\n",
        "from sklearn.tree import DecisionTreeClassifier\n",
        "from sklearn.feature_extraction.text import CountVectorizer\n",
        "\n",
        "from sklearn.naive_bayes import MultinomialNB\n",
        "\n",
        "from sklearn.metrics import f1_score\n"
      ]
    },
    {
      "cell_type": "code",
      "execution_count": 2,
      "metadata": {
        "id": "ue0nV0uVo3OZ"
      },
      "outputs": [],
      "source": [
        "# CARREGANDO O DATA FRAME\n",
        "import pandas as pd\n",
        "df = pd.read_csv('data/reviews-pt-br.csv', encoding='utf-8')\n",
        "\n",
        "# Façam o download do arquivo e utilizem localmente durante os testes"
      ]
    },
    {
      "cell_type": "code",
      "execution_count": 3,
      "metadata": {
        "id": "FziwgqJmw9OD"
      },
      "outputs": [
        {
          "name": "stdout",
          "output_type": "stream",
          "text": [
            "<class 'pandas.core.frame.DataFrame'>\n",
            "RangeIndex: 44514 entries, 0 to 44513\n",
            "Data columns (total 3 columns):\n",
            " #   Column      Non-Null Count  Dtype \n",
            "---  ------      --------------  ----- \n",
            " 0   codigo      44514 non-null  int64 \n",
            " 1   texto       44514 non-null  object\n",
            " 2   sentimento  44514 non-null  object\n",
            "dtypes: int64(1), object(2)\n",
            "memory usage: 1.0+ MB\n"
          ]
        }
      ],
      "source": [
        "df.info()"
      ]
    },
    {
      "cell_type": "code",
      "execution_count": 4,
      "metadata": {
        "id": "25cBRwGAw8-1"
      },
      "outputs": [
        {
          "name": "stderr",
          "output_type": "stream",
          "text": [
            "[nltk_data] Downloading package stopwords to\n",
            "[nltk_data]     /home/njaneto/nltk_data...\n",
            "[nltk_data]   Package stopwords is already up-to-date!\n"
          ]
        },
        {
          "data": {
            "text/plain": [
              "499"
            ]
          },
          "execution_count": 4,
          "metadata": {},
          "output_type": "execute_result"
        }
      ],
      "source": [
        "# Carrega StopWords\n",
        "nlp = spacy.load('pt_core_news_sm') #python3 -m spacy download pt_core_news_sm\n",
        "nltk.download('stopwords')\n",
        "\n",
        "# stopwords NLTK\n",
        "stops_nltk = nltk.corpus.stopwords.words('portuguese')\n",
        "\n",
        "# stopwords SpaCy\n",
        "stops_spacy = nlp.Defaults.stop_words\n",
        "\n",
        "# stopwords do SpaCy e NLTK combinadas\n",
        "stops = list(set(stops_spacy).union(set(stops_nltk)))\n",
        "len(stops)\n"
      ]
    },
    {
      "cell_type": "code",
      "execution_count": 5,
      "metadata": {},
      "outputs": [],
      "source": [
        "# função de lematização dos verbos do documento\n",
        "def fn_lematiza_verb_texto(texto):\n",
        "    sent = []\n",
        "    doc = nlp(texto)\n",
        "    for word in doc:\n",
        "        if word.pos_ =='VERB':\n",
        "            sent.append(word.lemma_)\n",
        "        else:\n",
        "            sent.append(word.text)\n",
        "    return \" \".join(sent)\n",
        "\n",
        "# função para limpar documento\n",
        "def fn_limpa_texto(texto):\n",
        "    result = []\n",
        "    texto = re.findall(r\"[a-zA-z]+\", texto)\n",
        "    for w in texto:\n",
        "        w = w.lower()\n",
        "        if w in stops:\n",
        "            continue\n",
        "        result.append(w)\n",
        "        \n",
        "    texto = ' '.join(result)\n",
        "    return texto\n",
        "\n"
      ]
    },
    {
      "cell_type": "code",
      "execution_count": 6,
      "metadata": {},
      "outputs": [
        {
          "data": {
            "application/vnd.jupyter.widget-view+json": {
              "model_id": "1baee3a025354802b9e1d91f571f582d",
              "version_major": 2,
              "version_minor": 0
            },
            "text/plain": [
              "  0%|          | 0/44514 [00:00<?, ?it/s]"
            ]
          },
          "metadata": {},
          "output_type": "display_data"
        },
        {
          "data": {
            "application/vnd.jupyter.widget-view+json": {
              "model_id": "aeef510eb8a046ada6dd5c3be584f0a3",
              "version_major": 2,
              "version_minor": 0
            },
            "text/plain": [
              "  0%|          | 0/44514 [00:00<?, ?it/s]"
            ]
          },
          "metadata": {},
          "output_type": "display_data"
        },
        {
          "data": {
            "application/vnd.jupyter.widget-view+json": {
              "model_id": "9f87c89b51c24effb4789ed320cc926e",
              "version_major": 2,
              "version_minor": 0
            },
            "text/plain": [
              "  0%|          | 0/44514 [00:00<?, ?it/s]"
            ]
          },
          "metadata": {},
          "output_type": "display_data"
        }
      ],
      "source": [
        "df.dropna(inplace=True)\n",
        "# limpa texto\n",
        "df['texto_trat'] = df.texto.progress_apply(fn_limpa_texto)\n",
        "\n",
        "# aplica a lematização dos verbos no dataframe\n",
        "df['texto_lemma_verb'] = df.texto_trat.progress_apply(fn_lematiza_verb_texto)\n",
        "\n",
        "df['sentimento'] = df.sentimento.progress_apply(lambda x: 1 if x == 'pos' else 0)"
      ]
    },
    {
      "cell_type": "code",
      "execution_count": 7,
      "metadata": {},
      "outputs": [
        {
          "data": {
            "text/html": [
              "<div>\n",
              "<style scoped>\n",
              "    .dataframe tbody tr th:only-of-type {\n",
              "        vertical-align: middle;\n",
              "    }\n",
              "\n",
              "    .dataframe tbody tr th {\n",
              "        vertical-align: top;\n",
              "    }\n",
              "\n",
              "    .dataframe thead th {\n",
              "        text-align: right;\n",
              "    }\n",
              "</style>\n",
              "<table border=\"1\" class=\"dataframe\">\n",
              "  <thead>\n",
              "    <tr style=\"text-align: right;\">\n",
              "      <th></th>\n",
              "      <th>codigo</th>\n",
              "      <th>texto</th>\n",
              "      <th>sentimento</th>\n",
              "      <th>texto_trat</th>\n",
              "      <th>texto_lemma_verb</th>\n",
              "    </tr>\n",
              "  </thead>\n",
              "  <tbody>\n",
              "    <tr>\n",
              "      <th>0</th>\n",
              "      <td>1</td>\n",
              "      <td>Esse bocejo de pia de cozinha de orçamento mui...</td>\n",
              "      <td>0</td>\n",
              "      <td>bocejo pia cozinha or amento filme s feito rei...</td>\n",
              "      <td>bocejo pia cozinhar or amento filme s feito re...</td>\n",
              "    </tr>\n",
              "    <tr>\n",
              "      <th>1</th>\n",
              "      <td>2</td>\n",
              "      <td>O Bravo parece indicar que o personagem princi...</td>\n",
              "      <td>0</td>\n",
              "      <td>bravo indicar personagem principal claro coraj...</td>\n",
              "      <td>bravo indicar personagem principal claro coraj...</td>\n",
              "    </tr>\n",
              "    <tr>\n",
              "      <th>2</th>\n",
              "      <td>3</td>\n",
              "      <td>Durante a Guerra pela Independência do Sul, GE...</td>\n",
              "      <td>1</td>\n",
              "      <td>durante guerra independ ncia sul general spank...</td>\n",
              "      <td>durante guerra independ ncia sul general spank...</td>\n",
              "    </tr>\n",
              "    <tr>\n",
              "      <th>3</th>\n",
              "      <td>4</td>\n",
              "      <td>É fora de questão que a verdadeira Anna Anders...</td>\n",
              "      <td>1</td>\n",
              "      <td>quest verdadeira anna anderson n princesa anas...</td>\n",
              "      <td>quest verdadeira anna anderson n princesa anas...</td>\n",
              "    </tr>\n",
              "    <tr>\n",
              "      <th>4</th>\n",
              "      <td>5</td>\n",
              "      <td>Concordo totalmente com outro dos revisores aq...</td>\n",
              "      <td>0</td>\n",
              "      <td>concordo totalmente outro revisores ficou sati...</td>\n",
              "      <td>concordar totalmente outro revisores ficar sat...</td>\n",
              "    </tr>\n",
              "    <tr>\n",
              "      <th>5</th>\n",
              "      <td>6</td>\n",
              "      <td>Obra-prima absoluta de um filme! Boa noite Mr....</td>\n",
              "      <td>1</td>\n",
              "      <td>obra prima absoluta filme noite mr tom rapidam...</td>\n",
              "      <td>obra prima absoluta filme noite mr tom rapidam...</td>\n",
              "    </tr>\n",
              "    <tr>\n",
              "      <th>6</th>\n",
              "      <td>7</td>\n",
              "      <td>Embora a palavra megalmania seja muito usada p...</td>\n",
              "      <td>1</td>\n",
              "      <td>palavra megalmania usada descrever gene kelly ...</td>\n",
              "      <td>palavra megalmania usar descrever gene kelly s...</td>\n",
              "    </tr>\n",
              "    <tr>\n",
              "      <th>7</th>\n",
              "      <td>8</td>\n",
              "      <td>Esta tem que ser a peça mais incrível de porca...</td>\n",
              "      <td>0</td>\n",
              "      <td>pe incr vel porcaria cinematogr fica j assisti...</td>\n",
              "      <td>pe incr vel porcaria cinematogr ficar j assist...</td>\n",
              "    </tr>\n",
              "    <tr>\n",
              "      <th>8</th>\n",
              "      <td>9</td>\n",
              "      <td>Eu suponho que todas as piadas internas são o ...</td>\n",
              "      <td>0</td>\n",
              "      <td>suponho piadas internas s munchies cl ssico cu...</td>\n",
              "      <td>suponho piadas internas s munchies cl ssico cu...</td>\n",
              "    </tr>\n",
              "    <tr>\n",
              "      <th>9</th>\n",
              "      <td>10</td>\n",
              "      <td>Se há um tema deste filme, é que as pessoas po...</td>\n",
              "      <td>1</td>\n",
              "      <td>h tema filme pessoas lidar dificuldades imagin...</td>\n",
              "      <td>h tema filme pessoas lidar dificuldades imagin...</td>\n",
              "    </tr>\n",
              "    <tr>\n",
              "      <th>10</th>\n",
              "      <td>11</td>\n",
              "      <td>O que uma produção, que desperdício de tempo d...</td>\n",
              "      <td>0</td>\n",
              "      <td>produ desperd cio tela dinheiro est produtores...</td>\n",
              "      <td>produ desperd cio tela dinheiro est produtores...</td>\n",
              "    </tr>\n",
              "    <tr>\n",
              "      <th>11</th>\n",
              "      <td>12</td>\n",
              "      <td>Minha família e eu exibimos Underdog na noite ...</td>\n",
              "      <td>0</td>\n",
              "      <td>fam lia exibimos underdog noite anterior t rui...</td>\n",
              "      <td>fam lia exibir underdog noite anterior t ruim ...</td>\n",
              "    </tr>\n",
              "    <tr>\n",
              "      <th>12</th>\n",
              "      <td>13</td>\n",
              "      <td>Barman dirigiu Any Way the Wind Blows como ele...</td>\n",
              "      <td>1</td>\n",
              "      <td>barman dirigiu any way the wind blows cantaria...</td>\n",
              "      <td>barman dirigir any way the wind blows cantar m...</td>\n",
              "    </tr>\n",
              "    <tr>\n",
              "      <th>13</th>\n",
              "      <td>14</td>\n",
              "      <td>Fiquei surpreso quando vi este filme. Eu ouvi ...</td>\n",
              "      <td>0</td>\n",
              "      <td>fiquei surpreso vi filme ouvi melhor filme rom...</td>\n",
              "      <td>ficar surpresar vir filme ouvir melhor filme r...</td>\n",
              "    </tr>\n",
              "    <tr>\n",
              "      <th>14</th>\n",
              "      <td>15</td>\n",
              "      <td>Depois do já decepcionante \"Final Conflict\", a...</td>\n",
              "      <td>0</td>\n",
              "      <td>j decepcionante conflict s rie chega fundo po ...</td>\n",
              "      <td>j decepcionante conflict s rie chegar fundo po...</td>\n",
              "    </tr>\n",
              "    <tr>\n",
              "      <th>15</th>\n",
              "      <td>16</td>\n",
              "      <td>A verdadeira história de um bando de viciados ...</td>\n",
              "      <td>1</td>\n",
              "      <td>verdadeira hist ria bando viciados roubando em...</td>\n",
              "      <td>verdadeira hist rir bandar viciar roubar empre...</td>\n",
              "    </tr>\n",
              "    <tr>\n",
              "      <th>16</th>\n",
              "      <td>17</td>\n",
              "      <td>Este filme foi terrível. John Wayne é um ator ...</td>\n",
              "      <td>0</td>\n",
              "      <td>filme terr vel john wayne ator brutal s princi...</td>\n",
              "      <td>filme terr vel john wayne ator brutal s princi...</td>\n",
              "    </tr>\n",
              "    <tr>\n",
              "      <th>17</th>\n",
              "      <td>18</td>\n",
              "      <td>\"Todos os mundos, um palco e seus atores pesso...</td>\n",
              "      <td>1</td>\n",
              "      <td>mundos palco atores pessoas nele parecido diab...</td>\n",
              "      <td>mundo palco atores pessoas nele parecer diabos...</td>\n",
              "    </tr>\n",
              "    <tr>\n",
              "      <th>18</th>\n",
              "      <td>19</td>\n",
              "      <td>Eu digo a vocês, embora seja engraçado como es...</td>\n",
              "      <td>1</td>\n",
              "      <td>digo voc s engra ado palavr es s n mero palavr...</td>\n",
              "      <td>dizer voc s engra adir palavr es s n mero pala...</td>\n",
              "    </tr>\n",
              "    <tr>\n",
              "      <th>19</th>\n",
              "      <td>20</td>\n",
              "      <td>TIGERLAND / 2000 1/2 de quatro Por Blake Frenc...</td>\n",
              "      <td>1</td>\n",
              "      <td>tigerland blake french longo anos p blico viu ...</td>\n",
              "      <td>tigerland blake french longo anos p blico ver ...</td>\n",
              "    </tr>\n",
              "  </tbody>\n",
              "</table>\n",
              "</div>"
            ],
            "text/plain": [
              "    codigo                                              texto  sentimento  \\\n",
              "0        1  Esse bocejo de pia de cozinha de orçamento mui...           0   \n",
              "1        2  O Bravo parece indicar que o personagem princi...           0   \n",
              "2        3  Durante a Guerra pela Independência do Sul, GE...           1   \n",
              "3        4  É fora de questão que a verdadeira Anna Anders...           1   \n",
              "4        5  Concordo totalmente com outro dos revisores aq...           0   \n",
              "5        6  Obra-prima absoluta de um filme! Boa noite Mr....           1   \n",
              "6        7  Embora a palavra megalmania seja muito usada p...           1   \n",
              "7        8  Esta tem que ser a peça mais incrível de porca...           0   \n",
              "8        9  Eu suponho que todas as piadas internas são o ...           0   \n",
              "9       10  Se há um tema deste filme, é que as pessoas po...           1   \n",
              "10      11  O que uma produção, que desperdício de tempo d...           0   \n",
              "11      12  Minha família e eu exibimos Underdog na noite ...           0   \n",
              "12      13  Barman dirigiu Any Way the Wind Blows como ele...           1   \n",
              "13      14  Fiquei surpreso quando vi este filme. Eu ouvi ...           0   \n",
              "14      15  Depois do já decepcionante \"Final Conflict\", a...           0   \n",
              "15      16  A verdadeira história de um bando de viciados ...           1   \n",
              "16      17  Este filme foi terrível. John Wayne é um ator ...           0   \n",
              "17      18  \"Todos os mundos, um palco e seus atores pesso...           1   \n",
              "18      19  Eu digo a vocês, embora seja engraçado como es...           1   \n",
              "19      20  TIGERLAND / 2000 1/2 de quatro Por Blake Frenc...           1   \n",
              "\n",
              "                                           texto_trat  \\\n",
              "0   bocejo pia cozinha or amento filme s feito rei...   \n",
              "1   bravo indicar personagem principal claro coraj...   \n",
              "2   durante guerra independ ncia sul general spank...   \n",
              "3   quest verdadeira anna anderson n princesa anas...   \n",
              "4   concordo totalmente outro revisores ficou sati...   \n",
              "5   obra prima absoluta filme noite mr tom rapidam...   \n",
              "6   palavra megalmania usada descrever gene kelly ...   \n",
              "7   pe incr vel porcaria cinematogr fica j assisti...   \n",
              "8   suponho piadas internas s munchies cl ssico cu...   \n",
              "9   h tema filme pessoas lidar dificuldades imagin...   \n",
              "10  produ desperd cio tela dinheiro est produtores...   \n",
              "11  fam lia exibimos underdog noite anterior t rui...   \n",
              "12  barman dirigiu any way the wind blows cantaria...   \n",
              "13  fiquei surpreso vi filme ouvi melhor filme rom...   \n",
              "14  j decepcionante conflict s rie chega fundo po ...   \n",
              "15  verdadeira hist ria bando viciados roubando em...   \n",
              "16  filme terr vel john wayne ator brutal s princi...   \n",
              "17  mundos palco atores pessoas nele parecido diab...   \n",
              "18  digo voc s engra ado palavr es s n mero palavr...   \n",
              "19  tigerland blake french longo anos p blico viu ...   \n",
              "\n",
              "                                     texto_lemma_verb  \n",
              "0   bocejo pia cozinhar or amento filme s feito re...  \n",
              "1   bravo indicar personagem principal claro coraj...  \n",
              "2   durante guerra independ ncia sul general spank...  \n",
              "3   quest verdadeira anna anderson n princesa anas...  \n",
              "4   concordar totalmente outro revisores ficar sat...  \n",
              "5   obra prima absoluta filme noite mr tom rapidam...  \n",
              "6   palavra megalmania usar descrever gene kelly s...  \n",
              "7   pe incr vel porcaria cinematogr ficar j assist...  \n",
              "8   suponho piadas internas s munchies cl ssico cu...  \n",
              "9   h tema filme pessoas lidar dificuldades imagin...  \n",
              "10  produ desperd cio tela dinheiro est produtores...  \n",
              "11  fam lia exibir underdog noite anterior t ruim ...  \n",
              "12  barman dirigir any way the wind blows cantar m...  \n",
              "13  ficar surpresar vir filme ouvir melhor filme r...  \n",
              "14  j decepcionante conflict s rie chegar fundo po...  \n",
              "15  verdadeira hist rir bandar viciar roubar empre...  \n",
              "16  filme terr vel john wayne ator brutal s princi...  \n",
              "17  mundo palco atores pessoas nele parecer diabos...  \n",
              "18  dizer voc s engra adir palavr es s n mero pala...  \n",
              "19  tigerland blake french longo anos p blico ver ...  "
            ]
          },
          "execution_count": 7,
          "metadata": {},
          "output_type": "execute_result"
        }
      ],
      "source": [
        "df.head(20)"
      ]
    },
    {
      "cell_type": "code",
      "execution_count": 8,
      "metadata": {},
      "outputs": [],
      "source": [
        "# pré-processamento vetorização e BOW\n",
        "# Frequência de termos - term frequency–inverse document frequency (TF-IDF)\n",
        "vetor = TfidfVectorizer(ngram_range=(1,2), use_idf=True) "
      ]
    },
    {
      "cell_type": "code",
      "execution_count": 9,
      "metadata": {},
      "outputs": [],
      "source": [
        "# texto tratado e verbos lematizado\n",
        "vetor.fit(df.texto_lemma_verb)\n",
        "text_vect = vetor.transform(df.texto_lemma_verb)"
      ]
    },
    {
      "cell_type": "code",
      "execution_count": 10,
      "metadata": {},
      "outputs": [
        {
          "name": "stdout",
          "output_type": "stream",
          "text": [
            "(44514, 2498707)\n"
          ]
        }
      ],
      "source": [
        "# separa as amostras de Treino (80%) e Texte (20%)\n",
        "X_train,X_test,y_train,y_test = train_test_split(text_vect, df['sentimento'], test_size = 0.2, random_state = 42)\n",
        "print(text_vect.shape)"
      ]
    },
    {
      "cell_type": "code",
      "execution_count": 11,
      "metadata": {},
      "outputs": [],
      "source": [
        "# define e treina o modelo de Logistic Regression\n",
        "modelo_lr = LogisticRegression(random_state=42)\n",
        "\n",
        "modelo_lr.fit(X_train, y_train)\n",
        "\n",
        "# valida a parformance\n",
        "y_prediction = modelo_lr.predict(X_test)\n",
        "logistic_regression_accuracy = f1_score(y_prediction, y_test, average='weighted')"
      ]
    },
    {
      "cell_type": "code",
      "execution_count": 27,
      "metadata": {},
      "outputs": [],
      "source": [
        "# define e treina o modelo de Logistic Regression com penalty\n",
        "modelo_lrp = LogisticRegression(penalty = 'l2', C = 100, random_state=42, solver=\"saga\", max_iter=1000)\n",
        "\n",
        "modelo_lrp.fit(X_train, y_train)\n",
        "\n",
        "# valida a parformance\n",
        "y_prediction = modelo_lrp.predict(X_test)\n",
        "logistic_regression_penalty_accuracy = f1_score(y_prediction, y_test, average='weighted')"
      ]
    },
    {
      "cell_type": "code",
      "execution_count": 13,
      "metadata": {},
      "outputs": [],
      "source": [
        "# define e treina o modelo de classificação Decision Tree Classifier\n",
        "modelo_dtc = DecisionTreeClassifier(random_state=42)\n",
        "\n",
        "modelo_dtc.fit(X_train, y_train)\n",
        "\n",
        "# valida a parformance\n",
        "y_prediction = modelo_dtc.predict(X_test)\n",
        "decision_tree_accuracy = f1_score(y_prediction, y_test, average='weighted')"
      ]
    },
    {
      "cell_type": "code",
      "execution_count": 14,
      "metadata": {},
      "outputs": [],
      "source": [
        "# define e treina o modelo de Multinomial\n",
        "modelo_m = MultinomialNB()\n",
        "\n",
        "modelo_m.fit(X_train, y_train)\n",
        "\n",
        "# valida a parformance\n",
        "y_prediction = modelo_m.predict(X_test)\n",
        "multinomial_accuracy = f1_score(y_prediction, y_test, average='weighted')"
      ]
    },
    {
      "cell_type": "code",
      "execution_count": 28,
      "metadata": {},
      "outputs": [
        {
          "name": "stdout",
          "output_type": "stream",
          "text": [
            "logistic_regression_accuracy=0.8781874371484801\n",
            "logistic_regression_penalty_accuracy=0.8908354096226934\n",
            "decision_tree_accuracy=0.7227919173532654\n",
            "multinomial_accuracy=0.8800462145834034\n"
          ]
        }
      ],
      "source": [
        "print(f'{logistic_regression_accuracy=}')\n",
        "print(f'{logistic_regression_penalty_accuracy=}')\n",
        "print(f'{decision_tree_accuracy=}')\n",
        "print(f'{multinomial_accuracy=}')"
      ]
    },
    {
      "cell_type": "code",
      "execution_count": 29,
      "metadata": {},
      "outputs": [],
      "source": [
        "pickle.dump(vetor, open('modelo/modelo_verorizacao.pkl', 'wb'))\n",
        "pickle.dump(modelo_lrp, open('modelo/modelo_classificacao.pkl', 'wb'))"
      ]
    },
    {
      "cell_type": "markdown",
      "metadata": {
        "id": "68SiMjcWqD_m"
      },
      "source": [
        "####**Validação do professor**"
      ]
    },
    {
      "cell_type": "markdown",
      "metadata": {
        "id": "T24EasckqG2I"
      },
      "source": [
        "Consolidar apenas os scripts do seu **modelo campeão**, desde o carregamento do dataframe, separação das amostras, tratamentos utilizados (funções, limpezas, etc.), criação dos objetos de vetorização dos textos e modelo treinado e outras implementações utilizadas no processo de desenvolvimento do modelo."
      ]
    },
    {
      "cell_type": "code",
      "execution_count": 35,
      "metadata": {
        "id": "ZxqHA-XCrqsD"
      },
      "outputs": [],
      "source": [
        "novo_vetor = pickle.load(open('modelo/modelo_verorizacao.pkl', 'rb'))\n",
        "novo_modelo = pickle.load(open('modelo/modelo_classificacao.pkl', 'rb'))"
      ]
    },
    {
      "cell_type": "code",
      "execution_count": 31,
      "metadata": {
        "id": "VFA-CYfawkEJ"
      },
      "outputs": [
        {
          "name": "stdout",
          "output_type": "stream",
          "text": [
            "<class 'pandas.core.frame.DataFrame'>\n",
            "Int64Index: 11128 entries, 36447 to 4725\n",
            "Data columns (total 5 columns):\n",
            " #   Column            Non-Null Count  Dtype \n",
            "---  ------            --------------  ----- \n",
            " 0   codigo            11128 non-null  int64 \n",
            " 1   texto             11128 non-null  object\n",
            " 2   sentimento        11128 non-null  int64 \n",
            " 3   texto_trat        11128 non-null  object\n",
            " 4   texto_lemma_verb  11128 non-null  object\n",
            "dtypes: int64(2), object(3)\n",
            "memory usage: 521.6+ KB\n"
          ]
        },
        {
          "data": {
            "text/plain": [
              "0    5581\n",
              "1    5547\n",
              "Name: sentimento, dtype: int64"
            ]
          },
          "execution_count": 31,
          "metadata": {},
          "output_type": "execute_result"
        }
      ],
      "source": [
        "dfValida = df.sample(frac=0.25)\n",
        "dfValida.info()\n",
        "dfValida.sentimento.value_counts()\n"
      ]
    },
    {
      "cell_type": "code",
      "execution_count": 32,
      "metadata": {
        "id": "3ClM-JTJo3FK"
      },
      "outputs": [],
      "source": [
        "text_vect = novo_vetor.transform(dfValida.texto_lemma_verb)"
      ]
    },
    {
      "cell_type": "code",
      "execution_count": 33,
      "metadata": {},
      "outputs": [],
      "source": [
        "predito = novo_modelo.predict(text_vect)"
      ]
    },
    {
      "cell_type": "code",
      "execution_count": 34,
      "metadata": {},
      "outputs": [
        {
          "name": "stdout",
          "output_type": "stream",
          "text": [
            "(11128, 2498707)\n",
            "0.9787921864780645\n"
          ]
        }
      ],
      "source": [
        "# valida a parformance\n",
        "accuracy = f1_score(predito, dfValida.sentimento, average='weighted')\n",
        "\n",
        "print(text_vect.shape)\n",
        "print(accuracy)"
      ]
    }
  ],
  "metadata": {
    "colab": {
      "collapsed_sections": [],
      "name": "TemplateTrabalhoFinal-NLP.ipynb",
      "provenance": []
    },
    "kernelspec": {
      "display_name": "Python 3",
      "name": "python3"
    },
    "language_info": {
      "codemirror_mode": {
        "name": "ipython",
        "version": 3
      },
      "file_extension": ".py",
      "mimetype": "text/x-python",
      "name": "python",
      "nbconvert_exporter": "python",
      "pygments_lexer": "ipython3",
      "version": "3.8.10"
    }
  },
  "nbformat": 4,
  "nbformat_minor": 0
}
